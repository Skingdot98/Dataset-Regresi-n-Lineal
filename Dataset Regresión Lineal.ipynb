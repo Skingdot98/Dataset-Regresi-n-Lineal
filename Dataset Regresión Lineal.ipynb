{
 "cells": [
  {
   "cell_type": "raw",
   "id": "b9b655ad-71be-4807-bd27-cb608f5090ba",
   "metadata": {},
   "source": [
    "1. Realizar un análisis exploratorio de los datos para identificar relaciones entre variables, valores atípicos, tendencias, etc."
   ]
  },
  {
   "cell_type": "code",
   "execution_count": 2,
   "id": "ebbe2225-70eb-4c59-9155-cbbfd77d3532",
   "metadata": {},
   "outputs": [],
   "source": [
    "# Cargar Librerias Necesarias\n",
    "import pandas as pd  # Para la manipulación y análisis de datos\n",
    "import numpy as np  # Para operaciones numéricas\n",
    "import matplotlib.pyplot as plt  # Para crear gráficos y visualizaciones\n",
    "import seaborn as sns  # Para crear gráficos estadísticos atractivos\n",
    "\n",
    "#LIbrerias de para implementar modelos de  ciencia de datos\n",
    "from sklearn import metrics, model_selection\n",
    "from sklearn.model_selection import train_test_split\n",
    "from sklearn.linear_model import LogisticRegression\n",
    "#Libreria para regresión lineal\n",
    "from sklearn.metrics import classification_report, confusion_matrix"
   ]
  },
  {
   "cell_type": "code",
   "execution_count": 4,
   "id": "01145514-46b1-4e98-87ca-31bb31c75955",
   "metadata": {},
   "outputs": [],
   "source": [
    "#Lectura de datos en phyton y lo cargamos en la variable Datos\n",
    "\n",
    "# Lee el archivo CSV\n",
    "Datos = pd.read_csv(r'C:\\Users\\Skigdot\\Documents\\UNAD\\PERIODO 16-01\\ANÁLISIS DE DATOS\\Tarea 3\\Car details v3.csv')"
   ]
  },
  {
   "cell_type": "code",
   "execution_count": 5,
   "id": "bc26d78d-0ebf-46c1-a152-9af8fd271a2d",
   "metadata": {},
   "outputs": [
    {
     "name": "stdout",
     "output_type": "stream",
     "text": [
      "                                           name  year  selling_price  \\\n",
      "0                        Maruti Swift Dzire VDI  2014         450000   \n",
      "1                  Skoda Rapid 1.5 TDI Ambition  2014         370000   \n",
      "2                      Honda City 2017-2020 EXi  2006         158000   \n",
      "3                     Hyundai i20 Sportz Diesel  2010         225000   \n",
      "4                        Maruti Swift VXI BSIII  2007         130000   \n",
      "5                 Hyundai Xcent 1.2 VTVT E Plus  2017         440000   \n",
      "6                  Maruti Wagon R LXI DUO BSIII  2007          96000   \n",
      "7                            Maruti 800 DX BSII  2001          45000   \n",
      "8                              Toyota Etios VXD  2011         350000   \n",
      "9          Ford Figo Diesel Celebration Edition  2013         200000   \n",
      "10              Renault Duster 110PS Diesel RxL  2014         500000   \n",
      "11                                Maruti Zen LX  2005          92000   \n",
      "12                       Maruti Swift Dzire VDi  2009         280000   \n",
      "13                         Maruti Swift 1.3 VXi  2007         200000   \n",
      "14                     Maruti Wagon R LXI Minor  2009         180000   \n",
      "15         Mahindra KUV 100 mFALCON G80 K8 5str  2016         400000   \n",
      "16                       Maruti Ertiga SHVS VDI  2016         778000   \n",
      "17                    Hyundai i20 1.4 CRDi Asta  2012         500000   \n",
      "18                               Maruti Alto LX  2002         150000   \n",
      "19          Hyundai i20 2015-2017 Asta 1.4 CRDi  2016         680000   \n",
      "20                 Mahindra Verito 1.5 D4 BSIII  2011         174000   \n",
      "21                         Honda WR-V i-DTEC VX  2017         950000   \n",
      "22                       Maruti Swift Dzire ZDI  2015         525000   \n",
      "23                               Maruti SX4 ZDI  2012         600000   \n",
      "24                      Tata Tigor 2017-2020 XZ  2018         500000   \n",
      "25                      Maruti Baleno Delta 1.2  2016         575000   \n",
      "26                          Maruti Alto 800 LXI  2017         275000   \n",
      "27            Chevrolet Enjoy TCDi LTZ 7 Seater  2013         300000   \n",
      "28                     Maruti Wagon R LXI Minor  2009         220000   \n",
      "29                  Maruti Omni E MPI STD BS IV  2018         254999   \n",
      "30              Maruti Vitara Brezza LDi Option  2017         670000   \n",
      "31                           Fiat Palio 1.2 ELX  2003          70000   \n",
      "32                    Maruti Omni 8 Seater BSIV  2012         150000   \n",
      "33               Hyundai i20 1.2 Asta Dual Tone  2018         730000   \n",
      "34                     Maruti Vitara Brezza LDi  2017         650000   \n",
      "35             Maruti Alto 800 CNG LXI Optional  2019         330000   \n",
      "36                   Maruti Alto K10 VXI Airbag  2019         366000   \n",
      "37             Hyundai Verna VTVT 1.6 SX Option  2019        1149000   \n",
      "38                                  Datsun GO D  2016         150000   \n",
      "39                 Tata Safari DICOR 2.2 LX 4x2  2011         425000   \n",
      "40                               Maruti 800 Std  2012         150000   \n",
      "41           Jeep Compass 1.4 Limited Plus BSIV  2019        2100000   \n",
      "42                         Honda City i VTEC VX  2018         925000   \n",
      "43                              Honda City V MT  2013         425000   \n",
      "44                    Maruti Swift Dzire VXi AT  2018         675000   \n",
      "45                     Maruti Vitara Brezza VDi  2018         819999   \n",
      "46                          Maruti Alto K10 VXI  2018         390000   \n",
      "47                       Toyota Fortuner 4x4 MT  2014        1500000   \n",
      "48  Toyota Innova 2.5 G (Diesel) 7 Seater BS IV  2013         700000   \n",
      "49                   Mercedes-Benz B Class B180  2014        1450000   \n",
      "\n",
      "    km_driven    fuel seller_type transmission         owner      mileage  \\\n",
      "0      145500  Diesel  Individual       Manual   First Owner    23.4 kmpl   \n",
      "1      120000  Diesel  Individual       Manual  Second Owner   21.14 kmpl   \n",
      "2      140000  Petrol  Individual       Manual   Third Owner    17.7 kmpl   \n",
      "3      127000  Diesel  Individual       Manual   First Owner    23.0 kmpl   \n",
      "4      120000  Petrol  Individual       Manual   First Owner    16.1 kmpl   \n",
      "5       45000  Petrol  Individual       Manual   First Owner   20.14 kmpl   \n",
      "6      175000     LPG  Individual       Manual   First Owner   17.3 km/kg   \n",
      "7        5000  Petrol  Individual       Manual  Second Owner    16.1 kmpl   \n",
      "8       90000  Diesel  Individual       Manual   First Owner   23.59 kmpl   \n",
      "9      169000  Diesel  Individual       Manual   First Owner    20.0 kmpl   \n",
      "10      68000  Diesel  Individual       Manual  Second Owner   19.01 kmpl   \n",
      "11     100000  Petrol  Individual       Manual  Second Owner    17.3 kmpl   \n",
      "12     140000  Diesel  Individual       Manual  Second Owner    19.3 kmpl   \n",
      "13      80000  Petrol  Individual       Manual  Second Owner          NaN   \n",
      "14      90000  Petrol  Individual       Manual  Second Owner    18.9 kmpl   \n",
      "15      40000  Petrol  Individual       Manual   First Owner   18.15 kmpl   \n",
      "16      70000  Diesel  Individual       Manual  Second Owner   24.52 kmpl   \n",
      "17      53000  Diesel  Individual       Manual  Second Owner    23.0 kmpl   \n",
      "18      80000  Petrol  Individual       Manual  Second Owner    19.7 kmpl   \n",
      "19     100000  Diesel  Individual       Manual   First Owner   22.54 kmpl   \n",
      "20     100000  Diesel  Individual       Manual  Second Owner    21.0 kmpl   \n",
      "21      50000  Diesel  Individual       Manual   First Owner    25.5 kmpl   \n",
      "22      40000  Diesel  Individual       Manual   First Owner   26.59 kmpl   \n",
      "23      72000  Diesel  Individual       Manual   First Owner    21.5 kmpl   \n",
      "24      35000  Petrol  Individual       Manual   First Owner    20.3 kmpl   \n",
      "25      45000  Petrol  Individual       Manual   First Owner    21.4 kmpl   \n",
      "26      28000  Petrol  Individual       Manual   First Owner    24.7 kmpl   \n",
      "27      70000  Diesel  Individual       Manual   First Owner    18.2 kmpl   \n",
      "28     120000  Petrol  Individual       Manual   First Owner    18.9 kmpl   \n",
      "29      25000  Petrol  Individual       Manual   First Owner    16.8 kmpl   \n",
      "30      70000  Diesel  Individual       Manual   First Owner    24.3 kmpl   \n",
      "31      50000  Petrol  Individual       Manual  Second Owner          NaN   \n",
      "32      35000  Petrol  Individual       Manual  Second Owner    14.0 kmpl   \n",
      "33       2388  Petrol  Individual       Manual   First Owner    18.6 kmpl   \n",
      "34      16200  Diesel  Individual       Manual   First Owner    24.3 kmpl   \n",
      "35      10000     CNG  Individual       Manual  Second Owner  33.44 km/kg   \n",
      "36      15000  Petrol  Individual       Manual   First Owner   23.95 kmpl   \n",
      "37       5000  Petrol  Individual       Manual   First Owner    17.0 kmpl   \n",
      "38      42000  Petrol  Individual       Manual   First Owner   20.63 kmpl   \n",
      "39      60000  Diesel  Individual       Manual  Second Owner   13.93 kmpl   \n",
      "40      76000  Petrol  Individual       Manual   First Owner    16.1 kmpl   \n",
      "41       5000  Petrol  Individual    Automatic   First Owner    16.0 kmpl   \n",
      "42      28900  Petrol      Dealer       Manual   First Owner    17.8 kmpl   \n",
      "43      86300  Petrol      Dealer       Manual   First Owner    16.8 kmpl   \n",
      "44      23300  Petrol      Dealer    Automatic   First Owner    18.5 kmpl   \n",
      "45      32600  Diesel      Dealer       Manual   First Owner    24.3 kmpl   \n",
      "46      10300  Petrol      Dealer       Manual   First Owner   23.95 kmpl   \n",
      "47      77000  Diesel      Dealer       Manual   First Owner   12.55 kmpl   \n",
      "48      99000  Diesel      Dealer       Manual   First Owner   12.99 kmpl   \n",
      "49      27800  Diesel      Dealer    Automatic  Second Owner    14.8 kmpl   \n",
      "\n",
      "     engine   max_power                    torque  seats  \n",
      "0   1248 CC      74 bhp            190Nm@ 2000rpm    5.0  \n",
      "1   1498 CC  103.52 bhp       250Nm@ 1500-2500rpm    5.0  \n",
      "2   1497 CC      78 bhp     12.7@ 2,700(kgm@ rpm)    5.0  \n",
      "3   1396 CC      90 bhp  22.4 kgm at 1750-2750rpm    5.0  \n",
      "4   1298 CC    88.2 bhp     11.5@ 4,500(kgm@ rpm)    5.0  \n",
      "5   1197 CC   81.86 bhp         113.75nm@ 4000rpm    5.0  \n",
      "6   1061 CC    57.5 bhp      7.8@ 4,500(kgm@ rpm)    5.0  \n",
      "7    796 CC      37 bhp             59Nm@ 2500rpm    4.0  \n",
      "8   1364 CC    67.1 bhp       170Nm@ 1800-2400rpm    5.0  \n",
      "9   1399 CC    68.1 bhp            160Nm@ 2000rpm    5.0  \n",
      "10  1461 CC  108.45 bhp            248Nm@ 2250rpm    5.0  \n",
      "11   993 CC      60 bhp             78Nm@ 4500rpm    5.0  \n",
      "12  1248 CC    73.9 bhp            190Nm@ 2000rpm    5.0  \n",
      "13      NaN         NaN                       NaN    NaN  \n",
      "14  1061 CC      67 bhp             84Nm@ 3500rpm    5.0  \n",
      "15  1198 CC      82 bhp       115Nm@ 3500-3600rpm    5.0  \n",
      "16  1248 CC    88.5 bhp            200Nm@ 1750rpm    7.0  \n",
      "17  1396 CC      90 bhp  22.4 kgm at 1750-2750rpm    5.0  \n",
      "18   796 CC    46.3 bhp             62Nm@ 3000rpm    5.0  \n",
      "19  1396 CC   88.73 bhp     219.7Nm@ 1500-2750rpm    5.0  \n",
      "20  1461 CC    64.1 bhp            160Nm@ 2000rpm    5.0  \n",
      "21  1498 CC    98.6 bhp            200Nm@ 1750rpm    5.0  \n",
      "22  1248 CC      74 bhp            190Nm@ 2000rpm    5.0  \n",
      "23  1248 CC    88.8 bhp            200Nm@ 1750rpm    5.0  \n",
      "24  1199 CC   83.81 bhp            114Nm@ 3500rpm    5.0  \n",
      "25  1197 CC    83.1 bhp            115Nm@ 4000rpm    5.0  \n",
      "26   796 CC    47.3 bhp             69Nm@ 3500rpm    5.0  \n",
      "27  1248 CC    73.8 bhp          172.5Nm@ 1750rpm    7.0  \n",
      "28  1061 CC      67 bhp             84Nm@ 3500rpm    5.0  \n",
      "29   796 CC    34.2 bhp             59Nm@ 2500rpm    8.0  \n",
      "30  1248 CC    88.5 bhp            200Nm@ 1750rpm    5.0  \n",
      "31      NaN         NaN                       NaN    NaN  \n",
      "32   796 CC      35 bhp           6.1kgm@ 3000rpm    5.0  \n",
      "33  1197 CC   81.83 bhp          114.7Nm@ 4000rpm    5.0  \n",
      "34  1248 CC    88.5 bhp            200Nm@ 1750rpm    5.0  \n",
      "35   796 CC    40.3 bhp             60Nm@ 3500rpm    4.0  \n",
      "36   998 CC    67.1 bhp             90Nm@ 3500rpm    5.0  \n",
      "37  1591 CC   121.3 bhp            151Nm@ 4850rpm    5.0  \n",
      "38  1198 CC      67 bhp            104Nm@ 4000rpm    5.0  \n",
      "39  2179 CC  138.03 bhp       320Nm@ 1700-2700rpm    7.0  \n",
      "40   796 CC      37 bhp             59Nm@ 2500rpm    4.0  \n",
      "41  1368 CC  160.77 bhp       250Nm@ 1750-2500rpm    5.0  \n",
      "42  1497 CC   117.3 bhp            145Nm@ 4600rpm    5.0  \n",
      "43  1497 CC   116.3 bhp            146Nm@ 4800rpm    5.0  \n",
      "44  1197 CC   83.14 bhp            115Nm@ 4000rpm    5.0  \n",
      "45  1248 CC    88.5 bhp            200Nm@ 1750rpm    5.0  \n",
      "46   998 CC   67.05 bhp             90Nm@ 3500rpm    5.0  \n",
      "47  2982 CC   168.5 bhp       343Nm@ 1400-3400rpm    7.0  \n",
      "48  2494 CC     100 bhp       200Nm@ 1400-3400rpm    7.0  \n",
      "49  2143 CC   120.7 bhp       200Nm@ 1250-4000rpm    5.0  \n"
     ]
    }
   ],
   "source": [
    "#Realizamos lectura de los datos para el analisis exploratorio\n",
    "# Mostramos las primeras 50 filas del DataFrame\n",
    "print(Datos.head(50))"
   ]
  },
  {
   "cell_type": "code",
   "execution_count": 6,
   "id": "707759e6-8819-4d72-b4c1-e872f4c265fa",
   "metadata": {},
   "outputs": [
    {
     "name": "stdout",
     "output_type": "stream",
     "text": [
      "              year  selling_price     km_driven        seats\n",
      "count  8128.000000   8.128000e+03  8.128000e+03  7907.000000\n",
      "mean   2013.804011   6.382718e+05  6.981951e+04     5.416719\n",
      "std       4.044249   8.062534e+05  5.655055e+04     0.959588\n",
      "min    1983.000000   2.999900e+04  1.000000e+00     2.000000\n",
      "25%    2011.000000   2.549990e+05  3.500000e+04     5.000000\n",
      "50%    2015.000000   4.500000e+05  6.000000e+04     5.000000\n",
      "75%    2017.000000   6.750000e+05  9.800000e+04     5.000000\n",
      "max    2020.000000   1.000000e+07  2.360457e+06    14.000000\n"
     ]
    }
   ],
   "source": [
    "#Descripcion de datos\n",
    "descripcion = Datos.describe()\n",
    "print(descripcion)"
   ]
  },
  {
   "cell_type": "code",
   "execution_count": 7,
   "id": "177a1bc2-ae20-44ee-8a54-23e140c12f85",
   "metadata": {},
   "outputs": [
    {
     "data": {
      "image/png": "[encoded data removed]",
      "text/plain": [
       "<Figure size 800x600 with 1 Axes>"
      ]
     },
     "metadata": {},
     "output_type": "display_data"
    }
   ],
   "source": [
    "#identificación de Datos Faltantes y Atipicos\n",
    "\n",
    "# Crear una figura de matplotlib\n",
    "plt.figure(figsize=(8, 6))  # Tamaño de la figura\n",
    "\n",
    "# Crear un diagrama de caja (boxplot) con Seaborn\n",
    "sns.boxplot(x='year', data=Datos) \n",
    "\n",
    "# Agregar un título al gráfico con fuente de tamaño 10\n",
    "plt.title('Identificación de Datos Faltantes y Atípicos', fontsize=10)\n",
    "\n",
    "# Mostrar el gráfico\n",
    "plt.show()"
   ]
  },
  {
   "cell_type": "raw",
   "id": "83dd266b-4cc7-438f-ac61-776866089281",
   "metadata": {},
   "source": [
    "2. Preprocesar los datos limpiándolos, tratando valores faltantes y transformándolos según sea necesario"
   ]
  },
  {
   "cell_type": "code",
   "execution_count": 8,
   "id": "c8a54cf3-0274-4fd8-91aa-b16996e58fa3",
   "metadata": {},
   "outputs": [
    {
     "name": "stdout",
     "output_type": "stream",
     "text": [
      "Cantidad de registros con cero en la columna 'name': 0\n",
      "Cantidad de registros con cero en la columna 'year': 0\n",
      "Cantidad de registros con cero en la columna 'selling_price': 0\n",
      "Cantidad de registros con cero en la columna 'km_driven': 0\n",
      "Cantidad de registros con cero en la columna 'fuel': 0\n",
      "Cantidad de registros con cero en la columna 'seller_type': 0\n",
      "Cantidad de registros con cero en la columna 'transmission': 0\n",
      "Cantidad de registros con cero en la columna 'owner': 0\n",
      "Cantidad de registros con cero en la columna 'mileage': 0\n",
      "Cantidad de registros con cero en la columna 'engine': 0\n",
      "Cantidad de registros con cero en la columna 'max_power': 6\n",
      "Cantidad de registros con cero en la columna 'torque': 0\n",
      "Cantidad de registros con cero en la columna 'seats': 0\n"
     ]
    }
   ],
   "source": [
    "# Revisión de datos faltantes\n",
    "columnas_nuevas = ['name', 'year', 'selling_price', 'km_driven', 'fuel', 'seller_type', 'transmission', 'owner', 'mileage', 'engine', 'max_power', 'torque', 'seats']\n",
    "\n",
    "# Conteo de registros con cero en cada nueva columna\n",
    "registros_con_cero = {}\n",
    "for columna in columnas_nuevas:\n",
    "    # Convertir a string y contar registros con '0'\n",
    "    registros_con_cero[columna] = (Datos[columna].astype(str) == '0').sum()\n",
    "\n",
    "# Mostrar resultados\n",
    "for columna, cantidad in registros_con_cero.items():\n",
    "    print(f\"Cantidad de registros con cero en la columna '{columna}': {cantidad}\")"
   ]
  },
  {
   "cell_type": "code",
   "execution_count": 11,
   "id": "ff84af23-b3e7-464b-9b61-ba53db91d033",
   "metadata": {},
   "outputs": [],
   "source": [
    "# Convertir la columna 'max_power' a tipo numérico\n",
    "Datos['max_power'] = pd.to_numeric(Datos['max_power'], errors='coerce')\n",
    "\n",
    "# Remplazar los valores no numéricos o NaNs con el valor medio de la columna\n",
    "Datos['max_power'].fillna(Datos['max_power'].mean(), inplace=True)\n",
    "\n",
    "# Remplazar los ceros en la columna 'max_power' con el valor medio de la columna\n",
    "Datos['max_power'] = Datos['max_power'].replace(0, Datos['max_power'].mean())\n",
    "\n",
    "#Remplazar todos los ceros o espacios nulos con el valor medio de las columnas\n",
    "\n",
    "Datos['max_power']=Datos['max_power'].replace(0,Datos['max_power'].mean())"
   ]
  },
  {
   "cell_type": "code",
   "execution_count": 36,
   "id": "04fc96c5-b997-4a93-987c-911525bcbebf",
   "metadata": {},
   "outputs": [
    {
     "name": "stdout",
     "output_type": "stream",
     "text": [
      "Cantidad de registros con cero en la columna 'name': 0\n",
      "Cantidad de registros con cero en la columna 'year': 0\n",
      "Cantidad de registros con cero en la columna 'selling_price': 0\n",
      "Cantidad de registros con cero en la columna 'km_driven': 0\n",
      "Cantidad de registros con cero en la columna 'fuel': 0\n",
      "Cantidad de registros con cero en la columna 'seller_type': 0\n",
      "Cantidad de registros con cero en la columna 'transmission': 0\n",
      "Cantidad de registros con cero en la columna 'owner': 0\n",
      "Cantidad de registros con cero en la columna 'mileage': 0\n",
      "Cantidad de registros con cero en la columna 'engine': 0\n",
      "Cantidad de registros con cero en la columna 'max_power': 0\n",
      "Cantidad de registros con cero en la columna 'torque': 0\n",
      "Cantidad de registros con cero en la columna 'seats': 0\n"
     ]
    }
   ],
   "source": [
    "# Revisión nuevamente de datos faltantes\n",
    "columnas_nuevas = ['name', 'year', 'selling_price', 'km_driven', 'fuel', 'seller_type', 'transmission', 'owner', 'mileage', 'engine', 'max_power', 'torque', 'seats']\n",
    "\n",
    "# Conteo de registros con cero en cada nueva columna\n",
    "registros_con_cero = {}\n",
    "for columna in columnas_nuevas:\n",
    "    # Convertir a string y contar registros con '0'\n",
    "    registros_con_cero[columna] = (Datos[columna].astype(str) == '0').sum()\n",
    "\n",
    "# Mostrar resultados\n",
    "for columna, cantidad in registros_con_cero.items():\n",
    "    print(f\"Cantidad de registros con cero en la columna '{columna}': {cantidad}\")"
   ]
  },
  {
   "cell_type": "code",
   "execution_count": 43,
   "id": "9d9c940f-edf5-4d5a-8732-cc04445e70a3",
   "metadata": {
    "scrolled": true
   },
   "outputs": [
    {
     "data": {
      "image/png": "[encoded data removed]",
      "text/plain": [
       "<Figure size 800x600 with 1 Axes>"
      ]
     },
     "metadata": {},
     "output_type": "display_data"
    }
   ],
   "source": [
    "import matplotlib.pyplot as plt\n",
    "import seaborn as sns\n",
    "\n",
    "# Asegúrate de que 'Datos' contiene datos y 'year' es una columna válida\n",
    "# Supongamos que 'Datos' es un DataFrame de pandas\n",
    "# Por ejemplo, si 'Datos' es un DataFrame de pandas con una columna 'year':\n",
    "# Datos = pd.DataFrame({'year': [2010, 2011, 2012, 2013, 2014], 'value': [10, 12, 15, 20, 25]})\n",
    "\n",
    "# Si 'Datos' es un DataFrame de pandas con datos aleatorios para propósito de demostración:\n",
    "import pandas as pd\n",
    "import numpy as np\n",
    "Datos = pd.DataFrame({'year': np.random.randint(2010, 2020, 100), 'value': np.random.randn(100)})\n",
    "\n",
    "# Crear una figura de matplotlib\n",
    "plt.figure(figsize=(8, 6))  # Tamaño de la figura\n",
    "\n",
    "# Crear un diagrama de caja (boxplot) con Seaborn\n",
    "sns.boxplot(x='year', data=Datos) \n",
    "\n",
    "# Agregar un título al gráfico con fuente de tamaño 10\n",
    "plt.title('Identificación de Datos Atípicos', fontsize=10)\n",
    "\n",
    "# Mostrar el gráfico\n",
    "plt.show()"
   ]
  },
  {
   "cell_type": "code",
   "execution_count": 46,
   "id": "db0edff3-a994-4f2c-b157-430cd3b9054e",
   "metadata": {},
   "outputs": [
    {
     "name": "stdout",
     "output_type": "stream",
     "text": [
      "El total de datos atípicos es 100\n"
     ]
    }
   ],
   "source": [
    "import pandas as pd\n",
    "\n",
    "# Suponiendo que Datos es un DataFrame de pandas y 'year' es una columna válida en este DataFrame\n",
    "\n",
    "nivel_minimo = 100000\n",
    "nivel_maximo = 300000\n",
    "\n",
    "# Conteo de datos atípicos\n",
    "Total_Atipicos = ((Datos['year'] < nivel_minimo) | (Datos['year'] > nivel_maximo)).sum()\n",
    "\n",
    "# Imprimir el resultado\n",
    "print(\"El total de datos atípicos es {}\".format(Total_Atipicos))"
   ]
  },
  {
   "cell_type": "code",
   "execution_count": 47,
   "id": "04fbe264-e195-4a63-912e-29e62ccd1c6b",
   "metadata": {},
   "outputs": [
    {
     "name": "stdout",
     "output_type": "stream",
     "text": [
      "Número de filas después de filtrar datos atípicos: 0\n"
     ]
    }
   ],
   "source": [
    "# Filtrar datos atípicos\n",
    "Datos_filtrados = Datos[(Datos['year'] < nivel_maximo) & (Datos['year'] > nivel_minimo)]\n",
    "\n",
    "# Imprimir el número de filas después de filtrar\n",
    "print(\"Número de filas después de filtrar datos atípicos:\", len(Datos_filtrados))"
   ]
  },
  {
   "cell_type": "code",
   "execution_count": 48,
   "id": "91080f5d-bf49-47d6-a524-d204b9c05d34",
   "metadata": {},
   "outputs": [
    {
     "name": "stdout",
     "output_type": "stream",
     "text": [
      "El total de datos atípicos después de filtrar es 100\n"
     ]
    }
   ],
   "source": [
    "# Conteo de datos atípicos en el DataFrame filtrado\n",
    "Total_Atipicos_filtrados = ((Datos['year'] < nivel_minimo) | (Datos['year'] > nivel_maximo)).sum()\n",
    "\n",
    "# Imprimir el total de datos atípicos después de filtrar\n",
    "print(\"El total de datos atípicos después de filtrar es {}\".format(Total_Atipicos_filtrados))"
   ]
  },
  {
   "cell_type": "code",
   "execution_count": 49,
   "id": "912a304b-a3cd-4e2c-aaf0-9c497d237883",
   "metadata": {},
   "outputs": [
    {
     "name": "stdout",
     "output_type": "stream",
     "text": [
      "<class 'pandas.core.frame.DataFrame'>\n",
      "RangeIndex: 100 entries, 0 to 99\n",
      "Data columns (total 2 columns):\n",
      " #   Column  Non-Null Count  Dtype  \n",
      "---  ------  --------------  -----  \n",
      " 0   year    100 non-null    int32  \n",
      " 1   value   100 non-null    float64\n",
      "dtypes: float64(1), int32(1)\n",
      "memory usage: 1.3 KB\n",
      "None\n"
     ]
    }
   ],
   "source": [
    "# Mostrar información del DataFrame Datos\n",
    "print(Datos.info())"
   ]
  },
  {
   "cell_type": "raw",
   "id": "94a56a49-6c50-464e-a501-27be07d2dec5",
   "metadata": {},
   "source": [
    "3.Seleccionar las características más relevantes para entrenar el modelo utilizando selección de características"
   ]
  },
  {
   "cell_type": "code",
   "execution_count": 50,
   "id": "9663f3d5-1ea9-4ec0-89b5-cb358b38d2df",
   "metadata": {},
   "outputs": [
    {
     "name": "stdout",
     "output_type": "stream",
     "text": [
      "El total de carros antiguos es: 100\n"
     ]
    }
   ],
   "source": [
    "# Calcular el total de carros antiguos\n",
    "total_carros_antiguos = Datos['year'].value_counts().sum()\n",
    "\n",
    "# Imprimir el resultado\n",
    "print(\"El total de carros antiguos es:\", total_carros_antiguos)"
   ]
  },
  {
   "cell_type": "code",
   "execution_count": 51,
   "id": "fac78a42-1d73-43a6-9870-a4ee7cee5e12",
   "metadata": {},
   "outputs": [
    {
     "data": {
      "text/html": [
       "<div>\n",
       "<style scoped>\n",
       "    .dataframe tbody tr th:only-of-type {\n",
       "        vertical-align: middle;\n",
       "    }\n",
       "\n",
       "    .dataframe tbody tr th {\n",
       "        vertical-align: top;\n",
       "    }\n",
       "\n",
       "    .dataframe thead th {\n",
       "        text-align: right;\n",
       "    }\n",
       "</style>\n",
       "<table border=\"1\" class=\"dataframe\">\n",
       "  <thead>\n",
       "    <tr style=\"text-align: right;\">\n",
       "      <th></th>\n",
       "      <th>year</th>\n",
       "    </tr>\n",
       "  </thead>\n",
       "  <tbody>\n",
       "    <tr>\n",
       "      <th>0</th>\n",
       "      <td>2018</td>\n",
       "    </tr>\n",
       "    <tr>\n",
       "      <th>1</th>\n",
       "      <td>2010</td>\n",
       "    </tr>\n",
       "    <tr>\n",
       "      <th>2</th>\n",
       "      <td>2011</td>\n",
       "    </tr>\n",
       "    <tr>\n",
       "      <th>3</th>\n",
       "      <td>2019</td>\n",
       "    </tr>\n",
       "    <tr>\n",
       "      <th>4</th>\n",
       "      <td>2011</td>\n",
       "    </tr>\n",
       "    <tr>\n",
       "      <th>5</th>\n",
       "      <td>2010</td>\n",
       "    </tr>\n",
       "    <tr>\n",
       "      <th>6</th>\n",
       "      <td>2017</td>\n",
       "    </tr>\n",
       "    <tr>\n",
       "      <th>7</th>\n",
       "      <td>2018</td>\n",
       "    </tr>\n",
       "    <tr>\n",
       "      <th>8</th>\n",
       "      <td>2011</td>\n",
       "    </tr>\n",
       "    <tr>\n",
       "      <th>9</th>\n",
       "      <td>2018</td>\n",
       "    </tr>\n",
       "    <tr>\n",
       "      <th>10</th>\n",
       "      <td>2010</td>\n",
       "    </tr>\n",
       "    <tr>\n",
       "      <th>11</th>\n",
       "      <td>2011</td>\n",
       "    </tr>\n",
       "    <tr>\n",
       "      <th>12</th>\n",
       "      <td>2012</td>\n",
       "    </tr>\n",
       "    <tr>\n",
       "      <th>13</th>\n",
       "      <td>2017</td>\n",
       "    </tr>\n",
       "    <tr>\n",
       "      <th>14</th>\n",
       "      <td>2010</td>\n",
       "    </tr>\n",
       "    <tr>\n",
       "      <th>15</th>\n",
       "      <td>2018</td>\n",
       "    </tr>\n",
       "    <tr>\n",
       "      <th>16</th>\n",
       "      <td>2012</td>\n",
       "    </tr>\n",
       "    <tr>\n",
       "      <th>17</th>\n",
       "      <td>2013</td>\n",
       "    </tr>\n",
       "    <tr>\n",
       "      <th>18</th>\n",
       "      <td>2019</td>\n",
       "    </tr>\n",
       "    <tr>\n",
       "      <th>19</th>\n",
       "      <td>2017</td>\n",
       "    </tr>\n",
       "    <tr>\n",
       "      <th>20</th>\n",
       "      <td>2010</td>\n",
       "    </tr>\n",
       "    <tr>\n",
       "      <th>21</th>\n",
       "      <td>2018</td>\n",
       "    </tr>\n",
       "    <tr>\n",
       "      <th>22</th>\n",
       "      <td>2011</td>\n",
       "    </tr>\n",
       "    <tr>\n",
       "      <th>23</th>\n",
       "      <td>2012</td>\n",
       "    </tr>\n",
       "    <tr>\n",
       "      <th>24</th>\n",
       "      <td>2010</td>\n",
       "    </tr>\n",
       "    <tr>\n",
       "      <th>25</th>\n",
       "      <td>2011</td>\n",
       "    </tr>\n",
       "    <tr>\n",
       "      <th>26</th>\n",
       "      <td>2011</td>\n",
       "    </tr>\n",
       "    <tr>\n",
       "      <th>27</th>\n",
       "      <td>2013</td>\n",
       "    </tr>\n",
       "    <tr>\n",
       "      <th>28</th>\n",
       "      <td>2015</td>\n",
       "    </tr>\n",
       "    <tr>\n",
       "      <th>29</th>\n",
       "      <td>2012</td>\n",
       "    </tr>\n",
       "    <tr>\n",
       "      <th>30</th>\n",
       "      <td>2019</td>\n",
       "    </tr>\n",
       "    <tr>\n",
       "      <th>31</th>\n",
       "      <td>2010</td>\n",
       "    </tr>\n",
       "    <tr>\n",
       "      <th>32</th>\n",
       "      <td>2011</td>\n",
       "    </tr>\n",
       "    <tr>\n",
       "      <th>33</th>\n",
       "      <td>2013</td>\n",
       "    </tr>\n",
       "    <tr>\n",
       "      <th>34</th>\n",
       "      <td>2013</td>\n",
       "    </tr>\n",
       "    <tr>\n",
       "      <th>35</th>\n",
       "      <td>2011</td>\n",
       "    </tr>\n",
       "    <tr>\n",
       "      <th>36</th>\n",
       "      <td>2019</td>\n",
       "    </tr>\n",
       "    <tr>\n",
       "      <th>37</th>\n",
       "      <td>2015</td>\n",
       "    </tr>\n",
       "    <tr>\n",
       "      <th>38</th>\n",
       "      <td>2014</td>\n",
       "    </tr>\n",
       "    <tr>\n",
       "      <th>39</th>\n",
       "      <td>2014</td>\n",
       "    </tr>\n",
       "  </tbody>\n",
       "</table>\n",
       "</div>"
      ],
      "text/plain": [
       "    year\n",
       "0   2018\n",
       "1   2010\n",
       "2   2011\n",
       "3   2019\n",
       "4   2011\n",
       "5   2010\n",
       "6   2017\n",
       "7   2018\n",
       "8   2011\n",
       "9   2018\n",
       "10  2010\n",
       "11  2011\n",
       "12  2012\n",
       "13  2017\n",
       "14  2010\n",
       "15  2018\n",
       "16  2012\n",
       "17  2013\n",
       "18  2019\n",
       "19  2017\n",
       "20  2010\n",
       "21  2018\n",
       "22  2011\n",
       "23  2012\n",
       "24  2010\n",
       "25  2011\n",
       "26  2011\n",
       "27  2013\n",
       "28  2015\n",
       "29  2012\n",
       "30  2019\n",
       "31  2010\n",
       "32  2011\n",
       "33  2013\n",
       "34  2013\n",
       "35  2011\n",
       "36  2019\n",
       "37  2015\n",
       "38  2014\n",
       "39  2014"
      ]
     },
     "execution_count": 51,
     "metadata": {},
     "output_type": "execute_result"
    }
   ],
   "source": [
    "Datos[['year']].head(40)"
   ]
  },
  {
   "cell_type": "raw",
   "id": "a0a587ba-3634-480a-98a9-e0d6a886ef2c",
   "metadata": {},
   "source": [
    "4. Dividir el dataset en Train y Test para evaluar correctamente el modelo"
   ]
  },
  {
   "cell_type": "code",
   "execution_count": 52,
   "id": "caddc1b1-9421-40aa-a88f-970a6a02bbc8",
   "metadata": {},
   "outputs": [],
   "source": [
    "from sklearn.model_selection import train_test_split\n",
    "\n",
    "# Dividir el conjunto de datos en características (X) y variable objetivo (Y)\n",
    "X = Datos.drop('year', axis=1)  # Características\n",
    "Y = Datos['year']  # Variable objetivo\n",
    "\n",
    "# Dividir los datos en conjuntos de entrenamiento y prueba\n",
    "# Usaremos un 75% para entrenamiento y un 25% para prueba\n",
    "# También estableceremos una semilla aleatoria para reproducibilidad\n",
    "X_train, X_test, Y_train, Y_test = train_test_split(X, Y, test_size=0.25, random_state=42)\n",
    "\n",
    "# Ahora tienes X_train y Y_train para el conjunto de entrenamiento, y X_test y Y_test para el conjunto de prueba"
   ]
  },
  {
   "cell_type": "code",
   "execution_count": 53,
   "id": "868a3ad5-fd8b-432a-a7d7-0d6b097b1cbe",
   "metadata": {},
   "outputs": [
    {
     "name": "stdout",
     "output_type": "stream",
     "text": [
      "       value\n",
      "15 -0.293175\n",
      "40 -0.619616\n",
      "96 -0.891152\n",
      "9   1.615736\n",
      "72 -0.344008\n",
      "..       ...\n",
      "60 -0.015845\n",
      "71  0.831639\n",
      "14  2.476396\n",
      "92 -0.735898\n",
      "51 -1.270529\n",
      "\n",
      "[75 rows x 1 columns]\n"
     ]
    }
   ],
   "source": [
    "print (X_train)"
   ]
  },
  {
   "cell_type": "raw",
   "id": "6b9ef240-90a0-4499-9207-c054306d7205",
   "metadata": {},
   "source": [
    "5. Entrenar el modelo configurando los diferentes hiperparámetros"
   ]
  },
  {
   "cell_type": "code",
   "execution_count": 55,
   "id": "71354eae-ffa6-4977-b43a-38b7a4b39d7a",
   "metadata": {},
   "outputs": [],
   "source": [
    "from sklearn.linear_model import LogisticRegression\n",
    "\n",
    "# Construir el modelo de regresión logística\n",
    "modelo_regresion = LogisticRegression(solver=\"liblinear\")\n",
    "modelo_regresion.fit(X_train, Y_train)\n",
    "\n",
    "# Crea el modelo de predicción\n",
    "Prediccion = modelo_regresion.predict(X_test)  # La función predict predice los valores a partir del conjunto de datos de validación"
   ]
  },
  {
   "cell_type": "code",
   "execution_count": 56,
   "id": "8a91ee64-0018-4bf4-9281-c0b92455a56c",
   "metadata": {},
   "outputs": [
    {
     "name": "stdout",
     "output_type": "stream",
     "text": [
      "83    2011\n",
      "53    2014\n",
      "70    2013\n",
      "45    2016\n",
      "44    2017\n",
      "39    2014\n",
      "22    2011\n",
      "80    2012\n",
      "10    2010\n",
      "0     2018\n",
      "18    2019\n",
      "30    2019\n",
      "73    2010\n",
      "33    2013\n",
      "90    2013\n",
      "4     2011\n",
      "76    2015\n",
      "77    2010\n",
      "12    2012\n",
      "31    2010\n",
      "55    2013\n",
      "88    2016\n",
      "26    2011\n",
      "42    2016\n",
      "69    2019\n",
      "Name: year, dtype: int32\n"
     ]
    }
   ],
   "source": [
    "print (Y_test)"
   ]
  },
  {
   "cell_type": "code",
   "execution_count": 57,
   "id": "1ed27e4c-6bb3-4027-a8f4-fca212dba7b7",
   "metadata": {},
   "outputs": [
    {
     "name": "stdout",
     "output_type": "stream",
     "text": [
      "[2018 2017 2011 2018 2010 2011 2010 2010 2017 2010 2018 2011 2018 2018\n",
      " 2010 2018 2011 2011 2018 2010 2018 2011 2011 2017 2018]\n"
     ]
    }
   ],
   "source": [
    "print (Prediccion)"
   ]
  },
  {
   "cell_type": "raw",
   "id": "e51e4775-3f92-49b6-a524-823efd18f533",
   "metadata": {},
   "source": [
    "6. Evaluar el desempeño del modelo en el conjunto de Test con métricas como precisión, recall, F1-score, etc"
   ]
  },
  {
   "cell_type": "code",
   "execution_count": 60,
   "id": "cae28a3b-b66a-40e9-9b9b-0cca7dba0e63",
   "metadata": {},
   "outputs": [
    {
     "name": "stdout",
     "output_type": "stream",
     "text": [
      "              precision    recall  f1-score   support\n",
      "\n",
      "        2010       0.33      0.25      0.29         4\n",
      "        2011       0.00      0.00      0.00         3\n",
      "        2012       0.00      0.00      0.00         2\n",
      "        2013       0.00      0.00      0.00         3\n",
      "        2014       0.00      0.00      0.00         2\n",
      "        2015       0.00      0.00      0.00         1\n",
      "        2016       0.00      0.00      0.00         1\n",
      "        2017       0.00      0.00      0.00         1\n",
      "        2018       0.25      1.00      0.40         1\n",
      "        2019       0.00      0.00      0.00         2\n",
      "\n",
      "    accuracy                           0.10        20\n",
      "   macro avg       0.06      0.12      0.07        20\n",
      "weighted avg       0.08      0.10      0.08        20\n",
      "\n"
     ]
    },
    {
     "name": "stderr",
     "output_type": "stream",
     "text": [
      "C:\\Users\\Skigdot\\anaconda3\\Lib\\site-packages\\sklearn\\metrics\\_classification.py:1344: UndefinedMetricWarning: Precision and F-score are ill-defined and being set to 0.0 in labels with no predicted samples. Use `zero_division` parameter to control this behavior.\n",
      "  _warn_prf(average, modifier, msg_start, len(result))\n",
      "C:\\Users\\Skigdot\\anaconda3\\Lib\\site-packages\\sklearn\\metrics\\_classification.py:1344: UndefinedMetricWarning: Precision and F-score are ill-defined and being set to 0.0 in labels with no predicted samples. Use `zero_division` parameter to control this behavior.\n",
      "  _warn_prf(average, modifier, msg_start, len(result))\n",
      "C:\\Users\\Skigdot\\anaconda3\\Lib\\site-packages\\sklearn\\metrics\\_classification.py:1344: UndefinedMetricWarning: Precision and F-score are ill-defined and being set to 0.0 in labels with no predicted samples. Use `zero_division` parameter to control this behavior.\n",
      "  _warn_prf(average, modifier, msg_start, len(result))\n"
     ]
    }
   ],
   "source": [
    "# Suponiendo que 'etiquetas' es una columna en tu DataFrame que representa las etiquetas de destino\n",
    "y = Datos['year']\n",
    "\n",
    "# Paso 1: Dividir el conjunto de datos en entrenamiento y prueba\n",
    "from sklearn.model_selection import train_test_split\n",
    "X_train, X_test, y_train, y_test = train_test_split(X, y, test_size=0.2, random_state=42)\n",
    "\n",
    "# Paso 2: Entrenar un modelo (por ejemplo, un clasificador)\n",
    "from sklearn.ensemble import RandomForestClassifier\n",
    "modelo = RandomForestClassifier()\n",
    "modelo.fit(X_train, y_train)\n",
    "\n",
    "# Paso 3: Evaluar el rendimiento del modelo\n",
    "from sklearn.metrics import classification_report\n",
    "y_pred = modelo.predict(X_test)\n",
    "print(classification_report(y_test, y_pred))\n"
   ]
  },
  {
   "cell_type": "raw",
   "id": "bb7038ff-2a93-4b02-b80f-221f82446ef0",
   "metadata": {},
   "source": [
    "7. Realizar las diferentes gráficas que permitan visualizar los resultados del modelo"
   ]
  },
  {
   "cell_type": "code",
   "execution_count": 61,
   "id": "84a511d5-138d-467a-a9d8-647a749c882d",
   "metadata": {},
   "outputs": [
    {
     "data": {
      "text/plain": [
       "<sklearn.metrics._plot.confusion_matrix.ConfusionMatrixDisplay at 0x20cc68601d0>"
      ]
     },
     "execution_count": 61,
     "metadata": {},
     "output_type": "execute_result"
    },
    {
     "data": {
      "image/png": "[encoded data removed]",
      "text/plain": [
       "<Figure size 640x480 with 2 Axes>"
      ]
     },
     "metadata": {},
     "output_type": "display_data"
    }
   ],
   "source": [
    "#Matrix de Confusión del modelo\n",
    "\n",
    "cm=confusion_matrix(Y_test,Prediccion)\n",
    "disp=metrics.ConfusionMatrixDisplay(confusion_matrix=cm)\n",
    "disp.plot()"
   ]
  },
  {
   "cell_type": "code",
   "execution_count": 64,
   "id": "4ea2d0a7-aa05-4d1a-8840-5e4b2cfdd3b7",
   "metadata": {},
   "outputs": [
    {
     "name": "stderr",
     "output_type": "stream",
     "text": [
      "C:\\Users\\Skigdot\\anaconda3\\Lib\\site-packages\\sklearn\\metrics\\_ranking.py:1020: UndefinedMetricWarning: No negative samples in y_true, false positive value should be meaningless\n",
      "  warnings.warn(\n"
     ]
    },
    {
     "data": {
      "image/png": "[encoded data removed]",
      "text/plain": [
       "<Figure size 640x480 with 1 Axes>"
      ]
     },
     "metadata": {},
     "output_type": "display_data"
    }
   ],
   "source": [
    "from sklearn.metrics import roc_curve, auc\n",
    "import matplotlib.pyplot as plt\n",
    "\n",
    "# Supongamos que 'year' es la columna que queremos utilizar como variable de destino\n",
    "y = Datos['year']\n",
    "\n",
    "# Definir umbral para clasificar los años\n",
    "umbral = 2010\n",
    "\n",
    "# Convertir valores continuos en binarios usando el umbral\n",
    "y_binario = np.where(y >= umbral, 1, 0)\n",
    "\n",
    "# Calcular la curva ROC\n",
    "fpr, tpr, thresholds = roc_curve(y_binario, y)\n",
    "\n",
    "# Calcular el área bajo la curva (AUC)\n",
    "roc_auc = auc(fpr, tpr)\n",
    "\n",
    "# Visualizar la curva ROC\n",
    "plt.figure()\n",
    "plt.plot(fpr, tpr, color='darkorange', lw=2, label='ROC curve (area = %0.2f)' % roc_auc)\n",
    "plt.plot([0, 1], [0, 1], color='navy', lw=2, linestyle='--')\n",
    "plt.xlim([0.0, 1.0])\n",
    "plt.ylim([0.0, 1.05])\n",
    "plt.xlabel('False Positive Rate')\n",
    "plt.ylabel('True Positive Rate')\n",
    "plt.title('Receiver Operating Characteristic (ROC)')\n",
    "plt.legend(loc=\"lower right\")\n",
    "plt.show()"
   ]
  },
  {
   "cell_type": "code",
   "execution_count": null,
   "id": "7dcac7ec-97bb-48b1-86b6-3e310bb81a9d",
   "metadata": {},
   "outputs": [],
   "source": []
  }
 ],
 "metadata": {
  "kernelspec": {
   "display_name": "Python 3 (ipykernel)",
   "language": "python",
   "name": "python3"
  },
  "language_info": {
   "codemirror_mode": {
    "name": "ipython",
    "version": 3
   },
   "file_extension": ".py",
   "mimetype": "text/x-python",
   "name": "python",
   "nbconvert_exporter": "python",
   "pygments_lexer": "ipython3",
   "version": "3.11.7"
  }
 },
 "nbformat": 4,
 "nbformat_minor": 5
}
